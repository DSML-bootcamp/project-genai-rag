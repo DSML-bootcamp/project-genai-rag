{
 "cells": [
  {
   "cell_type": "code",
   "execution_count": null,
   "metadata": {},
   "outputs": [],
   "source": [
    "from sentence_transformers import SentenceTransformer\n",
    "import pandas as pd\n",
    "import os\n",
    "import chromadb"
   ]
  },
  {
   "cell_type": "code",
   "execution_count": null,
   "metadata": {},
   "outputs": [],
   "source": [
    "model = SentenceTransformer('all-MiniLM-L6-v2')"
   ]
  },
  {
   "cell_type": "code",
   "execution_count": null,
   "metadata": {},
   "outputs": [],
   "source": [
    "# Initialize ChromaDB\n",
    "chroma_client = chromadb.HttpClient(host='removed for security', port=0)\n",
    "# collection = chroma_client.create_collection('documents')\n",
    "try:\n",
    "    collection = chroma_client.get_collection('documents')\n",
    "except:\n",
    "    collection = chroma_client.create_collection('documents')"
   ]
  },
  {
   "cell_type": "code",
   "execution_count": null,
   "metadata": {},
   "outputs": [],
   "source": [
    "def process_file(filepath):\n",
    "    with open(filepath, 'r', encoding='utf-8') as f:\n",
    "        text = f.readlines()\n",
    "    embeddings = model.encode(text, show_progress_bar=True)\n",
    "    i = 0\n",
    "    for line, chunk in zip(text, embeddings):\n",
    "        id = 'id' + str(i)\n",
    "        collection.add(id, line, chunk.tolist())\n",
    "\n",
    "    # collection.add(\n",
    "    #     ids = filepath,\n",
    "    #     documents = [text],\n",
    "    #     embeddings = embeddings.tolist()\n",
    "    # )"
   ]
  },
  {
   "cell_type": "code",
   "execution_count": null,
   "metadata": {},
   "outputs": [],
   "source": [
    "files = []\n",
    "for dirname, _, filenames in os.walk('linkedin_skills'):\n",
    "    for filename in filenames:\n",
    "        files.append(os.path.join(dirname, filename))\n",
    "\n",
    "files\n",
    "\n",
    "# for file in files:\n",
    "#     process_file(file)\n",
    "\n",
    "# process_file('linkedin_skills/small.txt')"
   ]
  },
  {
   "cell_type": "code",
   "execution_count": null,
   "metadata": {},
   "outputs": [],
   "source": [
    "def retrieve_embed(query_text):\n",
    "    # Generate embedding for the query\n",
    "    query_embedding = model.encode([query_text])\n",
    "    \n",
    "    # Retrieve relevant documents\n",
    "    results = collection.query(query_embedding.tolist(), n_results=5)\n",
    "    return results"
   ]
  },
  {
   "cell_type": "code",
   "execution_count": null,
   "metadata": {},
   "outputs": [],
   "source": [
    "embeds = retrieve_embed('Customer')\n",
    "embeds"
   ]
  },
  {
   "cell_type": "code",
   "execution_count": null,
   "metadata": {},
   "outputs": [],
   "source": [
    "embeds['documents'][0][0]"
   ]
  }
 ],
 "metadata": {
  "kernelspec": {
   "display_name": "Python 3",
   "language": "python",
   "name": "python3"
  },
  "language_info": {
   "codemirror_mode": {
    "name": "ipython",
    "version": 3
   },
   "file_extension": ".py",
   "mimetype": "text/x-python",
   "name": "python",
   "nbconvert_exporter": "python",
   "pygments_lexer": "ipython3",
   "version": "3.12.3"
  }
 },
 "nbformat": 4,
 "nbformat_minor": 2
}
